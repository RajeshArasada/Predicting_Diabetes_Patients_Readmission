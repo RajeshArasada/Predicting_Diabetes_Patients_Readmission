{
 "cells": [
  {
   "cell_type": "markdown",
   "metadata": {},
   "source": [
    "# Case Study - Predicting readmission for patients with Diabetes"
   ]
  },
  {
   "cell_type": "markdown",
   "metadata": {},
   "source": [
    "In this project I will build a model predicting readmission for patients with diabetes.\n",
    "The steps I will go through are:\n",
    "\n",
    "* data exploration and data cleaning\n",
    "* building training/validation/test samples\n",
    "* model selection\n",
    "* model evaluation"
   ]
  },
  {
   "cell_type": "markdown",
   "metadata": {},
   "source": [
    "# Problem Definition\n",
    "\n",
    "A hospital readmission is when a patient who is discharged from the hospital gets re-admitted again within a certain period of time. Readmission of patients is a huge financial burden on the insurance companies and other payment agencies. The hospitals also suffer because it reflects poorly on the quality of the service they provide.\n",
    "\n",
    "In 2011, American hospitals spent over $41 billion on diabetic patients who got readmitted within 30 days of discharge. Determining factors that lead to higher readmission, and correspondingly being able to predict which patients will get readmitted can help hospitals save millions of dollars while improving quality of care."
   ]
  },
  {
   "cell_type": "markdown",
   "metadata": {},
   "source": [
    "# Dataset Exploration\n",
    "\n",
    "The data used in this project is available at the UCI machine learning repository (https://archive.ics.uci.edu/ml/datasets/diabetes+130-us+hospitals+for+years+1999-2008). \n",
    "The data consists of over 100000 hospital admissions from patients with diabetes from 130 US hospitals between 1999-2008."
   ]
  },
  {
   "cell_type": "markdown",
   "metadata": {},
   "source": [
    "## Load libraries required for data analysis"
   ]
  },
  {
   "cell_type": "code",
   "execution_count": 409,
   "metadata": {},
   "outputs": [],
   "source": [
    "import seaborn as sns\n",
    "import matplotlib.pyplot as plt\n",
    "import numpy as np\n",
    "import pandas as pd\n",
    "from matplotlib.ticker import StrMethodFormatter\n",
    "from matplotlib.legend_handler import HandlerLine2D\n",
    "pd.set_option('display.max_columns', 500)\n",
    "pd.set_option('display.max_rows', 500)\n",
    "%matplotlib inline"
   ]
  },
  {
   "cell_type": "markdown",
   "metadata": {},
   "source": [
    "## Data\n",
    "\n",
    "There are two csv files providing the necessary information. The first one is the data itself and the second file provides some supplemental information about certain variables in the dataset. "
   ]
  },
  {
   "cell_type": "code",
   "execution_count": 410,
   "metadata": {},
   "outputs": [],
   "source": [
    "dia = pd.read_csv('diabetic_data.csv')  # read data using read_csv function\n",
    "dia1 = dia.copy()  # Make a copy of the original dataframe\n",
    "ids_mapping = pd.read_csv('IDs_mapping.csv')  # read supplementary information"
   ]
  },
  {
   "cell_type": "markdown",
   "metadata": {},
   "source": [
    "## Missing Data\n",
    "**Below is a piece of code that summarizes the missingnees in the data**"
   ]
  },
  {
   "cell_type": "code",
   "execution_count": 411,
   "metadata": {},
   "outputs": [],
   "source": [
    "# Write a function to summarize the missing data in the dataframe\n",
    "def data_missingness(dataframe):\n",
    "    num_missing_values = dataframe.isnull().sum()\n",
    "    percent_missing_values = 100 * num_missing_values/dataframe.shape[0]\n",
    "\n",
    "    # make a dataframe\n",
    "    missing_data_df = pd.DataFrame({'# missing values': num_missing_values,\n",
    "                                    'Percent of missing values': percent_missing_values})\n",
    "    return missing_data_df"
   ]
  },
  {
   "cell_type": "code",
   "execution_count": 412,
   "metadata": {},
   "outputs": [
    {
     "name": "stdout",
     "output_type": "stream",
     "text": [
      "                          # missing values  Percent of missing values\n",
      "encounter_id                             0                        0.0\n",
      "patient_nbr                              0                        0.0\n",
      "race                                     0                        0.0\n",
      "gender                                   0                        0.0\n",
      "age                                      0                        0.0\n",
      "weight                                   0                        0.0\n",
      "admission_type_id                        0                        0.0\n",
      "discharge_disposition_id                 0                        0.0\n",
      "admission_source_id                      0                        0.0\n",
      "time_in_hospital                         0                        0.0\n",
      "payer_code                               0                        0.0\n",
      "medical_specialty                        0                        0.0\n",
      "num_lab_procedures                       0                        0.0\n",
      "num_procedures                           0                        0.0\n",
      "num_medications                          0                        0.0\n",
      "number_outpatient                        0                        0.0\n",
      "number_emergency                         0                        0.0\n",
      "number_inpatient                         0                        0.0\n",
      "diag_1                                   0                        0.0\n",
      "diag_2                                   0                        0.0\n",
      "diag_3                                   0                        0.0\n",
      "number_diagnoses                         0                        0.0\n",
      "max_glu_serum                            0                        0.0\n",
      "A1Cresult                                0                        0.0\n",
      "metformin                                0                        0.0\n",
      "repaglinide                              0                        0.0\n",
      "nateglinide                              0                        0.0\n",
      "chlorpropamide                           0                        0.0\n",
      "glimepiride                              0                        0.0\n",
      "acetohexamide                            0                        0.0\n",
      "glipizide                                0                        0.0\n",
      "glyburide                                0                        0.0\n",
      "tolbutamide                              0                        0.0\n",
      "pioglitazone                             0                        0.0\n",
      "rosiglitazone                            0                        0.0\n",
      "acarbose                                 0                        0.0\n",
      "miglitol                                 0                        0.0\n",
      "troglitazone                             0                        0.0\n",
      "tolazamide                               0                        0.0\n",
      "examide                                  0                        0.0\n",
      "citoglipton                              0                        0.0\n",
      "insulin                                  0                        0.0\n",
      "glyburide-metformin                      0                        0.0\n",
      "glipizide-metformin                      0                        0.0\n",
      "glimepiride-pioglitazone                 0                        0.0\n",
      "metformin-rosiglitazone                  0                        0.0\n",
      "metformin-pioglitazone                   0                        0.0\n",
      "change                                   0                        0.0\n",
      "diabetesMed                              0                        0.0\n",
      "readmitted                               0                        0.0\n"
     ]
    }
   ],
   "source": [
    "# Print the missing data summary in the diabetes dataset\n",
    "print(data_missingness(dia1))"
   ]
  },
  {
   "cell_type": "markdown",
   "metadata": {
    "cell_style": "center"
   },
   "source": [
    "## Duplicated Obseravtions\n",
    "This dataset includes information the hospital records when a patient gets admitted in the hospital. It is possible that a particular patient can have multiple entires. I specifically looked for were:\n",
    "\n",
    "* patients who were readmitted\n",
    "* duplicated observation in the dataset\n",
    "\n",
    "~30% of the observations belong to the readmitted patients. This is a lot of data to drop. Instead I included this information as a new feature - 'number_encounters' specifying the number of admissions. "
   ]
  },
  {
   "cell_type": "code",
   "execution_count": 413,
   "metadata": {},
   "outputs": [
    {
     "name": "stdout",
     "output_type": "stream",
     "text": [
      "There are 101766 hospital admissions recorded in the dataset.\n",
      "There are 0 duplicated observations in the dataset.\n",
      "The number of patients admitted in the hospital are 71518\n",
      "There are 30248 observations coming from patients readmitted atleast once.\n"
     ]
    },
    {
     "data": {
      "text/html": [
       "<div>\n",
       "<style scoped>\n",
       "    .dataframe tbody tr th:only-of-type {\n",
       "        vertical-align: middle;\n",
       "    }\n",
       "\n",
       "    .dataframe tbody tr th {\n",
       "        vertical-align: top;\n",
       "    }\n",
       "\n",
       "    .dataframe thead th {\n",
       "        text-align: right;\n",
       "    }\n",
       "</style>\n",
       "<table border=\"1\" class=\"dataframe\">\n",
       "  <thead>\n",
       "    <tr style=\"text-align: right;\">\n",
       "      <th></th>\n",
       "      <th>patient_nbr</th>\n",
       "      <th>number_encounters</th>\n",
       "    </tr>\n",
       "  </thead>\n",
       "  <tbody>\n",
       "    <tr>\n",
       "      <th>23350</th>\n",
       "      <td>20612853</td>\n",
       "      <td>2</td>\n",
       "    </tr>\n",
       "    <tr>\n",
       "      <th>92413</th>\n",
       "      <td>31652982</td>\n",
       "      <td>3</td>\n",
       "    </tr>\n",
       "    <tr>\n",
       "      <th>40258</th>\n",
       "      <td>103236174</td>\n",
       "      <td>1</td>\n",
       "    </tr>\n",
       "    <tr>\n",
       "      <th>3389</th>\n",
       "      <td>3726135</td>\n",
       "      <td>3</td>\n",
       "    </tr>\n",
       "    <tr>\n",
       "      <th>80096</th>\n",
       "      <td>70642206</td>\n",
       "      <td>1</td>\n",
       "    </tr>\n",
       "    <tr>\n",
       "      <th>28827</th>\n",
       "      <td>25969833</td>\n",
       "      <td>2</td>\n",
       "    </tr>\n",
       "    <tr>\n",
       "      <th>12550</th>\n",
       "      <td>16267221</td>\n",
       "      <td>5</td>\n",
       "    </tr>\n",
       "    <tr>\n",
       "      <th>34454</th>\n",
       "      <td>3756870</td>\n",
       "      <td>1</td>\n",
       "    </tr>\n",
       "    <tr>\n",
       "      <th>13647</th>\n",
       "      <td>64579707</td>\n",
       "      <td>1</td>\n",
       "    </tr>\n",
       "    <tr>\n",
       "      <th>18592</th>\n",
       "      <td>13921803</td>\n",
       "      <td>1</td>\n",
       "    </tr>\n",
       "  </tbody>\n",
       "</table>\n",
       "</div>"
      ],
      "text/plain": [
       "       patient_nbr  number_encounters\n",
       "23350     20612853                  2\n",
       "92413     31652982                  3\n",
       "40258    103236174                  1\n",
       "3389       3726135                  3\n",
       "80096     70642206                  1\n",
       "28827     25969833                  2\n",
       "12550     16267221                  5\n",
       "34454      3756870                  1\n",
       "13647     64579707                  1\n",
       "18592     13921803                  1"
      ]
     },
     "execution_count": 413,
     "metadata": {},
     "output_type": "execute_result"
    }
   ],
   "source": [
    "num_hospital_adimissions = len(dia1['encounter_id'].unique())\n",
    "print('There are {} hospital admissions recorded in the dataset.'.format(\n",
    "    num_hospital_adimissions))\n",
    "\n",
    "duplicated_observations = dia1.duplicated().sum()\n",
    "print('There are {} duplicated observations in the dataset.'.format(\n",
    "    duplicated_observations))\n",
    "\n",
    "num_patients = len(dia1['patient_nbr'].unique())\n",
    "print('The number of patients admitted in the hospital are {}'.format(num_patients))\n",
    "\n",
    "readmitted_patients = dia1['patient_nbr'].duplicated().sum()\n",
    "print('There are {} observations coming from patients readmitted atleast once.'.format(\n",
    "    readmitted_patients))\n",
    "\n",
    "dia1['number_encounters'] = dia1.groupby(\n",
    "    'patient_nbr')['encounter_id'].transform(\"count\")\n",
    "dia1[['patient_nbr', 'number_encounters']].sample(10)"
   ]
  },
  {
   "cell_type": "markdown",
   "metadata": {},
   "source": [
    "## Dead patients\n",
    "Before exploring the features and understanding what they mean, I dropped any observations that don't add any value to the data and data analysis. Patients who expired are unlikely to never get readmitted. I obtained their current status from the supplementary information and 'discharge_disposition_id'. I dropped the information of patients who expired."
   ]
  },
  {
   "cell_type": "code",
   "execution_count": 414,
   "metadata": {},
   "outputs": [],
   "source": [
    "# 'discharge_disposition_id' - 11, 13, 14, 19, 20 -  indicate the patient status as expired\n",
    "dia1 = dia1[~dia1['discharge_disposition_id'].isin([11, 19, 20, 21])]\n",
    "# Reset the index\n",
    "dia1.reset_index(inplace=True)"
   ]
  },
  {
   "cell_type": "markdown",
   "metadata": {},
   "source": [
    "## Categorical Variables\n",
    "I split the data into categorical and numeric variables, and explored them separately"
   ]
  },
  {
   "cell_type": "code",
   "execution_count": 415,
   "metadata": {},
   "outputs": [],
   "source": [
    "categorical_features_df = dia1.select_dtypes(include=object)"
   ]
  },
  {
   "cell_type": "markdown",
   "metadata": {},
   "source": [
    "I wrote two functions to summarize all the categoical variables"
   ]
  },
  {
   "cell_type": "code",
   "execution_count": 416,
   "metadata": {},
   "outputs": [],
   "source": [
    "# first one we will call unique_values_categorical_features\n",
    "# pass in the name of the dataframe and the list of columns\n",
    "\n",
    "\n",
    "# pass in the name of the dataframe and the list of columns\n",
    "def unique_values_categorical_features(df):\n",
    "    cols = df.columns.tolist()\n",
    "    for col in cols:\n",
    "        unique_values = df[col].unique()\n",
    "        print(col.upper())\n",
    "        print(unique_values)\n",
    "\n",
    "# Second function : value_counts\n",
    "\n",
    "\n",
    "def value_counts_categorical_features(df):\n",
    "    cols = df.columns.tolist()\n",
    "    for col in cols:\n",
    "        value_counts = df[col].value_counts()\n",
    "        print(value_counts)"
   ]
  },
  {
   "cell_type": "code",
   "execution_count": 417,
   "metadata": {},
   "outputs": [],
   "source": [
    "#print(unique_values_categorical_features(categorical_features_df))"
   ]
  },
  {
   "cell_type": "code",
   "execution_count": 418,
   "metadata": {},
   "outputs": [],
   "source": [
    "#print(value_counts_categorical_features(categorical_features_df))"
   ]
  },
  {
   "cell_type": "markdown",
   "metadata": {},
   "source": [
    "### Dealing with '?' "
   ]
  },
  {
   "cell_type": "markdown",
   "metadata": {},
   "source": [
    "There are no missing values in the dataframe but it has many '?' in it. \n",
    "I summarized the '?' values in the dataframe."
   ]
  },
  {
   "cell_type": "code",
   "execution_count": 419,
   "metadata": {},
   "outputs": [
    {
     "name": "stdout",
     "output_type": "stream",
     "text": [
      "race (2239, 2.24)\n",
      "gender (0, 0.0)\n",
      "age (0, 0.0)\n",
      "weight (96958, 96.85)\n",
      "payer_code (39591, 39.55)\n",
      "medical_specialty (49129, 49.07)\n",
      "diag_1 (21, 0.02)\n",
      "diag_2 (358, 0.36)\n",
      "diag_3 (1421, 1.42)\n",
      "max_glu_serum (0, 0.0)\n",
      "A1Cresult (0, 0.0)\n",
      "metformin (0, 0.0)\n",
      "repaglinide (0, 0.0)\n",
      "nateglinide (0, 0.0)\n",
      "chlorpropamide (0, 0.0)\n",
      "glimepiride (0, 0.0)\n",
      "acetohexamide (0, 0.0)\n",
      "glipizide (0, 0.0)\n",
      "glyburide (0, 0.0)\n",
      "tolbutamide (0, 0.0)\n",
      "pioglitazone (0, 0.0)\n",
      "rosiglitazone (0, 0.0)\n",
      "acarbose (0, 0.0)\n",
      "miglitol (0, 0.0)\n",
      "troglitazone (0, 0.0)\n",
      "tolazamide (0, 0.0)\n",
      "examide (0, 0.0)\n",
      "citoglipton (0, 0.0)\n",
      "insulin (0, 0.0)\n",
      "glyburide-metformin (0, 0.0)\n",
      "glipizide-metformin (0, 0.0)\n",
      "glimepiride-pioglitazone (0, 0.0)\n",
      "metformin-rosiglitazone (0, 0.0)\n",
      "metformin-pioglitazone (0, 0.0)\n",
      "change (0, 0.0)\n",
      "diabetesMed (0, 0.0)\n",
      "readmitted (0, 0.0)\n"
     ]
    }
   ],
   "source": [
    "cat_cols = categorical_features_df.columns.tolist()\n",
    "\n",
    "for col in cat_cols:\n",
    "    unusual_character_count = categorical_features_df[col][categorical_features_df[col] == '?'].count(\n",
    "    )\n",
    "    percent_unusual_characters = round(\n",
    "        100 * unusual_character_count/categorical_features_df.shape[0], 2)\n",
    "    print(col, (unusual_character_count, percent_unusual_characters))"
   ]
  },
  {
   "cell_type": "markdown",
   "metadata": {},
   "source": [
    "* I dropped 'weight', 'payer_code' & 'medical_specialty' columns since they have a large percentage of observations with no information.\n",
    "\n",
    "* About ~ 2% of observations in the 'race' column has with no information. I changed it to 'Unknown'\n",
    "\n",
    "* diag_1, diag_2, diag_3 are important columns. I dropped any observations where values are missing in all three. I replaced the remaining with 'Unknown'\n",
    "\n",
    "* Age column is an object datatype because we were provided with information as 10 year bins."
   ]
  },
  {
   "cell_type": "code",
   "execution_count": 420,
   "metadata": {},
   "outputs": [],
   "source": [
    "dia1.drop(['weight', 'payer_code', 'medical_specialty'], axis=1, inplace=True)\n",
    "dia1['race'].replace('?', 'Unknown')\n",
    "dia1.drop(dia1[(dia1['diag_1'] == '?') & (dia1['diag_2'] == '?')\n",
    "               & (dia1['diag_3'] == '?')].index, inplace=True)"
   ]
  },
  {
   "cell_type": "markdown",
   "metadata": {},
   "source": [
    "### Gender"
   ]
  },
  {
   "cell_type": "markdown",
   "metadata": {},
   "source": [
    "I dropped three observation where the gender information is unknown."
   ]
  },
  {
   "cell_type": "code",
   "execution_count": 421,
   "metadata": {},
   "outputs": [],
   "source": [
    "# Drop 'gender' observations with no information\n",
    "dia1.drop(dia1[dia1['gender'] == 'Unknown/Invalid'].index, inplace=True)\n",
    "# Reset the index\n",
    "dia1.reset_index(inplace=True)"
   ]
  },
  {
   "cell_type": "markdown",
   "metadata": {},
   "source": [
    "### Columns with only one value or with more than one unique values but one of the values has insignificant frequency in the dataset\n",
    "The columns below either have only one value or more than one value but one of the values has insignificant frequency hence I dropped them. The ratios of the values are provided below.\n",
    "* EXAMIDE - 1 value\n",
    "* CITOGLIPTON - 1 value\n",
    "\n",
    "* metformin-pioglitazone   - 2 values (100113 : 1)\n",
    "* glimepiride-pioglitazone - 2 values (100113 : 1)\n",
    "* metformin-rosiglitazone  - 2 values (100112 : 2)\n",
    "* troglitazone             - 2 values (100111 : 3)\n",
    "* acetohexamide            - 2 values (100113 : 1)\n"
   ]
  },
  {
   "cell_type": "code",
   "execution_count": 422,
   "metadata": {},
   "outputs": [],
   "source": [
    "dia1.drop(['metformin-pioglitazone', 'metformin-rosiglitazone', 'glimepiride-pioglitazone',\n",
    "           'citoglipton', 'examide', 'troglitazone', 'acetohexamide'], axis=1, inplace=True)"
   ]
  },
  {
   "cell_type": "markdown",
   "metadata": {},
   "source": [
    "### Redundant Column\n",
    "diabetesMed column indicates whether the patient is taking any medication or not. \n",
    "There are a number of columns indicating whether the person is given a particular kind of diabetes medicine or not. Given all the information of the drugs given, the information in this column appears redundant. Hence I dropped this column.\n"
   ]
  },
  {
   "cell_type": "code",
   "execution_count": 423,
   "metadata": {},
   "outputs": [],
   "source": [
    "dia1.drop('diabetesMed', axis=1, inplace=True)"
   ]
  },
  {
   "cell_type": "markdown",
   "metadata": {},
   "source": [
    "### Manual One_Hot_Encoding\n",
    "There are 3 columns specifying the diagnosis codes, each with a set of ~900 codes. Dummifying them will result in ~2700 additional columns. There are only 913 unique codes in these three columns.  \n",
    "The code below will generate only 913 columns each for a unique code. A column will be marked as 1 if a patient underwent a particular diagnosis or else will be assigned 0."
   ]
  },
  {
   "cell_type": "code",
   "execution_count": 424,
   "metadata": {},
   "outputs": [],
   "source": [
    "# Identify the unique diagnostic codes in all three columsn put together\n",
    "unique_diagnostic_codes = set(list(\n",
    "    set(dia1['diag_1'])) + list(set(dia1['diag_2'])) + list(set(dia1['diag_3'])))\n",
    "len(unique_diagnostic_codes)\n",
    "\n",
    "# Create a matix of zeros\n",
    "diag_dummies = np.zeros(91400430).reshape(100110, 913)\n",
    "\n",
    "# Make a dataframe of this matrix 'diag_dummies_df' and use the unique diagnostic codes as column names\n",
    "diag_dummies_df = pd.DataFrame(diag_dummies, columns=unique_diagnostic_codes)\n",
    "\n",
    "# Iterrate over every row in each of the three diag_columns to identify the code\n",
    "# find the appropriate in the column in the 'diag_dummies_df' and assign a value 1 to that row\n",
    "for col in ['diag_1', 'diag_2', 'diag_3']:\n",
    "    for i in range(99343):\n",
    "        diag_dummies_df.loc[i, dia1.loc[i, col]] = 1\n",
    "\n",
    "diag_dummies_df.sample(5)\n",
    "\n",
    "# Drop the original diagnosis columns\n",
    "dia1.drop(['diag_1',\n",
    "           'diag_2',\n",
    "           'diag_3'], inplace=True, axis=1)"
   ]
  },
  {
   "cell_type": "code",
   "execution_count": 425,
   "metadata": {},
   "outputs": [
    {
     "data": {
      "text/plain": [
       "['level_0',\n",
       " 'index',\n",
       " 'encounter_id',\n",
       " 'patient_nbr',\n",
       " 'race',\n",
       " 'gender',\n",
       " 'age',\n",
       " 'admission_type_id',\n",
       " 'discharge_disposition_id',\n",
       " 'admission_source_id',\n",
       " 'time_in_hospital',\n",
       " 'num_lab_procedures',\n",
       " 'num_procedures',\n",
       " 'num_medications',\n",
       " 'number_outpatient',\n",
       " 'number_emergency',\n",
       " 'number_inpatient',\n",
       " 'number_diagnoses',\n",
       " 'max_glu_serum',\n",
       " 'A1Cresult',\n",
       " 'metformin',\n",
       " 'repaglinide',\n",
       " 'nateglinide',\n",
       " 'chlorpropamide',\n",
       " 'glimepiride',\n",
       " 'glipizide',\n",
       " 'glyburide',\n",
       " 'tolbutamide',\n",
       " 'pioglitazone',\n",
       " 'rosiglitazone',\n",
       " 'acarbose',\n",
       " 'miglitol',\n",
       " 'tolazamide',\n",
       " 'insulin',\n",
       " 'glyburide-metformin',\n",
       " 'glipizide-metformin',\n",
       " 'change',\n",
       " 'readmitted',\n",
       " 'number_encounters']"
      ]
     },
     "execution_count": 425,
     "metadata": {},
     "output_type": "execute_result"
    }
   ],
   "source": [
    "dia1.columns.tolist()"
   ]
  },
  {
   "cell_type": "markdown",
   "metadata": {},
   "source": [
    "## Numerical Variables"
   ]
  },
  {
   "cell_type": "code",
   "execution_count": 426,
   "metadata": {
    "scrolled": true
   },
   "outputs": [
    {
     "data": {
      "text/plain": [
       "['level_0',\n",
       " 'index',\n",
       " 'encounter_id',\n",
       " 'patient_nbr',\n",
       " 'admission_type_id',\n",
       " 'discharge_disposition_id',\n",
       " 'admission_source_id',\n",
       " 'time_in_hospital',\n",
       " 'num_lab_procedures',\n",
       " 'num_procedures',\n",
       " 'num_medications',\n",
       " 'number_outpatient',\n",
       " 'number_emergency',\n",
       " 'number_inpatient',\n",
       " 'number_diagnoses',\n",
       " 'number_encounters']"
      ]
     },
     "execution_count": 426,
     "metadata": {},
     "output_type": "execute_result"
    }
   ],
   "source": [
    "# Subset the numerical columns\n",
    "numeric_data = dia1.select_dtypes(exclude='object')\n",
    "\n",
    "numeric_data.columns.tolist()"
   ]
  },
  {
   "cell_type": "markdown",
   "metadata": {},
   "source": [
    "### Univariate Analysis of the numeric data"
   ]
  },
  {
   "cell_type": "code",
   "execution_count": 427,
   "metadata": {},
   "outputs": [
    {
     "data": {
      "text/plain": [
       "<matplotlib.axes._subplots.AxesSubplot at 0x120e60e48>"
      ]
     },
     "execution_count": 427,
     "metadata": {},
     "output_type": "execute_result"
    },
    {
     "data": {
      "image/png": "[encoded data removed]",
      "text/plain": [
       "<matplotlib.figure.Figure at 0x120e8a9b0>"
      ]
     },
     "metadata": {},
     "output_type": "display_data"
    }
   ],
   "source": [
    "sns.distplot(numeric_data['time_in_hospital'], color=\"red\")"
   ]
  },
  {
   "cell_type": "code",
   "execution_count": 428,
   "metadata": {
    "scrolled": true
   },
   "outputs": [
    {
     "data": {
      "text/plain": [
       "<matplotlib.axes._subplots.AxesSubplot at 0x288d784e0>"
      ]
     },
     "execution_count": 428,
     "metadata": {},
     "output_type": "execute_result"
    },
    {
     "data": {
      "image/png": "[encoded data removed]",
      "text/plain": [
       "<matplotlib.figure.Figure at 0x12dc8aeb8>"
      ]
     },
     "metadata": {},
     "output_type": "display_data"
    }
   ],
   "source": [
    "sns.distplot(numeric_data['num_procedures'], color=\"red\")"
   ]
  },
  {
   "cell_type": "code",
   "execution_count": 429,
   "metadata": {
    "scrolled": true
   },
   "outputs": [
    {
     "data": {
      "text/plain": [
       "<matplotlib.axes._subplots.AxesSubplot at 0x288abd5c0>"
      ]
     },
     "execution_count": 429,
     "metadata": {},
     "output_type": "execute_result"
    },
    {
     "data": {
      "image/png": "[encoded data removed]",
      "text/plain": [
       "<matplotlib.figure.Figure at 0x288db4898>"
      ]
     },
     "metadata": {},
     "output_type": "display_data"
    }
   ],
   "source": [
    "sns.distplot(numeric_data['number_diagnoses'], color=\"red\")"
   ]
  },
  {
   "cell_type": "code",
   "execution_count": 430,
   "metadata": {
    "scrolled": true
   },
   "outputs": [
    {
     "data": {
      "text/plain": [
       "<matplotlib.axes._subplots.AxesSubplot at 0x1232c3c50>"
      ]
     },
     "execution_count": 430,
     "metadata": {},
     "output_type": "execute_result"
    },
    {
     "data": {
      "image/png": "[encoded data removed]",
      "text/plain": [
       "<matplotlib.figure.Figure at 0x12d127278>"
      ]
     },
     "metadata": {},
     "output_type": "display_data"
    }
   ],
   "source": [
    "sns.distplot(numeric_data['num_lab_procedures'], color=\"red\")"
   ]
  },
  {
   "cell_type": "code",
   "execution_count": 431,
   "metadata": {
    "scrolled": true
   },
   "outputs": [
    {
     "data": {
      "text/plain": [
       "<matplotlib.axes._subplots.AxesSubplot at 0x288aba390>"
      ]
     },
     "execution_count": 431,
     "metadata": {},
     "output_type": "execute_result"
    },
    {
     "data": {
      "image/png": "[encoded data removed]",
      "text/plain": [
       "<matplotlib.figure.Figure at 0x1248fa588>"
      ]
     },
     "metadata": {},
     "output_type": "display_data"
    }
   ],
   "source": [
    "sns.distplot(numeric_data['num_medications'], color=\"red\")"
   ]
  },
  {
   "cell_type": "code",
   "execution_count": 432,
   "metadata": {},
   "outputs": [],
   "source": [
    "dia1['num_medications_log'] = np.log(dia1['num_medications'])"
   ]
  },
  {
   "cell_type": "code",
   "execution_count": 433,
   "metadata": {},
   "outputs": [
    {
     "data": {
      "text/plain": [
       "<matplotlib.axes._subplots.AxesSubplot at 0x12d4d5278>"
      ]
     },
     "execution_count": 433,
     "metadata": {},
     "output_type": "execute_result"
    },
    {
     "data": {
      "image/png": "[encoded data removed]",
      "text/plain": [
       "<matplotlib.figure.Figure at 0x12d52feb8>"
      ]
     },
     "metadata": {},
     "output_type": "display_data"
    }
   ],
   "source": [
    "sns.distplot(dia1['num_medications_log'], color=\"red\")"
   ]
  },
  {
   "cell_type": "code",
   "execution_count": 434,
   "metadata": {
    "scrolled": false
   },
   "outputs": [
    {
     "data": {
      "text/plain": [
       "<matplotlib.axes._subplots.AxesSubplot at 0x123292e10>"
      ]
     },
     "execution_count": 434,
     "metadata": {},
     "output_type": "execute_result"
    },
    {
     "data": {
      "image/png": "[encoded data removed]",
      "text/plain": [
       "<matplotlib.figure.Figure at 0x125221668>"
      ]
     },
     "metadata": {},
     "output_type": "display_data"
    }
   ],
   "source": [
    "fig, ax = plt.subplots(figsize=(15, 5), ncols=3)\n",
    "\n",
    "# The amount of space above titles\n",
    "y_title_margin = 1\n",
    "\n",
    "ax[0].set_title(\"Number_Outpatient_visits\",  y=y_title_margin)\n",
    "ax[1].set_title(\"Number_Inpatient_visits\",   y=y_title_margin)\n",
    "ax[2].set_title(\"Number_Emergency_visits\",   y=y_title_margin)\n",
    "\n",
    "sns.distplot(dia1[\"number_outpatient\"], kde=False, ax=ax[0])\n",
    "sns.distplot(dia1[\"number_inpatient\"],  kde=False, ax=ax[1])\n",
    "sns.distplot(dia1[\"number_emergency\"],  kde=False, ax=ax[2])"
   ]
  },
  {
   "cell_type": "markdown",
   "metadata": {},
   "source": [
    "#### Log Transformation"
   ]
  },
  {
   "cell_type": "code",
   "execution_count": 435,
   "metadata": {},
   "outputs": [],
   "source": [
    "dia1['number_outpatient_log1p'] = np.log1p(dia1['number_outpatient'])\n",
    "dia1['number_emergency_log1p'] = np.log1p(dia1['number_emergency'])\n",
    "dia1['number_inpatient_log1p'] = np.log1p(dia1['number_inpatient'])"
   ]
  },
  {
   "cell_type": "code",
   "execution_count": 436,
   "metadata": {},
   "outputs": [
    {
     "data": {
      "text/plain": [
       "<matplotlib.axes._subplots.AxesSubplot at 0x288b44710>"
      ]
     },
     "execution_count": 436,
     "metadata": {},
     "output_type": "execute_result"
    },
    {
     "data": {
      "image/png": "[encoded data removed]",
      "text/plain": [
       "<matplotlib.figure.Figure at 0x123e83470>"
      ]
     },
     "metadata": {},
     "output_type": "display_data"
    }
   ],
   "source": [
    "fig, ax = plt.subplots(figsize=(15, 5), ncols=3)\n",
    "\n",
    "# The amount of space above titles\n",
    "y_title_margin = 1\n",
    "\n",
    "ax[0].set_title(\"log_Number_Outpatient_visits\",  y=y_title_margin)\n",
    "ax[1].set_title(\"log_Number_Inpatient_visits\",   y=y_title_margin)\n",
    "ax[2].set_title(\"log_Number_Emergency_visits\",   y=y_title_margin)\n",
    "\n",
    "sns.distplot(dia1[\"number_outpatient_log1p\"], kde=False, ax=ax[0])\n",
    "sns.distplot(dia1[\"number_inpatient_log1p\"],  kde=False, ax=ax[1])\n",
    "sns.distplot(dia1[\"number_emergency_log1p\"],  kde=False, ax=ax[2])"
   ]
  },
  {
   "cell_type": "code",
   "execution_count": 437,
   "metadata": {},
   "outputs": [],
   "source": [
    "# The columns these columns are not very information to predict diabetes readmission at this point.\n",
    "dia1.drop(['level_0', 'index', 'encounter_id', 'patient_nbr', 'admission_type_id',\n",
    "           'discharge_disposition_id', 'admission_source_id', 'num_medications',\n",
    "           'number_outpatient', 'number_emergency', 'number_inpatient'], inplace=True, axis=1)"
   ]
  },
  {
   "cell_type": "markdown",
   "metadata": {},
   "source": [
    "## Explore the Target Variable"
   ]
  },
  {
   "cell_type": "markdown",
   "metadata": {},
   "source": [
    "**There are three classes in the target variable.**\n",
    "\n",
    "**Class 1: NO** - patients not readmitted,\n",
    "\n",
    "**Class 2: <30** - readmitted <30 days after discharge\n",
    "\n",
    "**Class 3: >30** - readmitted >30 days after discharge\n",
    "\n",
    "Since we are only interested in <30 class we will assign 1 to these observations and 0 to all other observations. "
   ]
  },
  {
   "cell_type": "code",
   "execution_count": 438,
   "metadata": {},
   "outputs": [
    {
     "data": {
      "text/plain": [
       "NO     53208\n",
       ">30    35545\n",
       "<30    11357\n",
       "Name: readmitted, dtype: int64"
      ]
     },
     "execution_count": 438,
     "metadata": {},
     "output_type": "execute_result"
    }
   ],
   "source": [
    "dia1['readmitted'].value_counts()"
   ]
  },
  {
   "cell_type": "code",
   "execution_count": 439,
   "metadata": {},
   "outputs": [],
   "source": [
    "dia1['readmitted'] = [1 if i == '<30' else 0 for i in dia1['readmitted']]"
   ]
  },
  {
   "cell_type": "code",
   "execution_count": 440,
   "metadata": {
    "scrolled": false
   },
   "outputs": [
    {
     "data": {
      "text/plain": [
       "<matplotlib.axes._subplots.AxesSubplot at 0x124f89898>"
      ]
     },
     "execution_count": 440,
     "metadata": {},
     "output_type": "execute_result"
    },
    {
     "data": {
      "image/png": "[encoded data removed]",
      "text/plain": [
       "<matplotlib.figure.Figure at 0x12d5291d0>"
      ]
     },
     "metadata": {},
     "output_type": "display_data"
    }
   ],
   "source": [
    "# Plot the target variable to quantify the distribution of the observation in the 2 classes\n",
    "sns.countplot(x='readmitted', data=dia1)"
   ]
  },
  {
   "cell_type": "code",
   "execution_count": 441,
   "metadata": {},
   "outputs": [],
   "source": [
    "dia_df = pd.get_dummies(dia1, drop_first=True)"
   ]
  },
  {
   "cell_type": "code",
   "execution_count": 442,
   "metadata": {},
   "outputs": [],
   "source": [
    "dia_final = pd.concat([dia_df, diag_dummies_df], axis=1)"
   ]
  },
  {
   "cell_type": "code",
   "execution_count": 443,
   "metadata": {},
   "outputs": [
    {
     "data": {
      "text/plain": [
       "(100110, 988)"
      ]
     },
     "execution_count": 443,
     "metadata": {},
     "output_type": "execute_result"
    }
   ],
   "source": [
    "dia_final.shape"
   ]
  },
  {
   "cell_type": "code",
   "execution_count": 444,
   "metadata": {},
   "outputs": [],
   "source": [
    "# Let's save the file for later use\n",
    "dia_final.to_csv('dia_final.csv', index=False)"
   ]
  },
  {
   "cell_type": "markdown",
   "metadata": {},
   "source": [
    "# Machine Learning"
   ]
  },
  {
   "cell_type": "markdown",
   "metadata": {},
   "source": [
    "## Load libraries required for machine learning"
   ]
  },
  {
   "cell_type": "code",
   "execution_count": 445,
   "metadata": {},
   "outputs": [],
   "source": [
    "import sklearn\n",
    "from sklearn.utils import shuffle\n",
    "from sklearn.model_selection import train_test_split\n",
    "from sklearn.model_selection import GridSearchCV, RandomizedSearchCV\n",
    "\n",
    "from sklearn.linear_model import LogisticRegression\n",
    "from sklearn.svm import LinearSVC\n",
    "from sklearn.calibration import CalibratedClassifierCV\n",
    "\n",
    "from sklearn.metrics import classification_report, confusion_matrix, accuracy_score\n",
    "from sklearn.metrics import precision_score, recall_score, roc_auc_score, roc_curve, auc\n",
    "import pickle\n",
    "\n",
    "import imblearn\n",
    "from imblearn.over_sampling import SMOTE\n",
    "\n",
    "from sklearn.preprocessing import StandardScaler"
   ]
  },
  {
   "cell_type": "markdown",
   "metadata": {},
   "source": [
    "So far we cleaned the data. It is now time to build some modles. \n",
    "\n",
    "The first thing to do is to shuffle the observations. "
   ]
  },
  {
   "cell_type": "code",
   "execution_count": 446,
   "metadata": {},
   "outputs": [],
   "source": [
    "df2 = pd.read_csv('dia_final.csv')"
   ]
  },
  {
   "cell_type": "code",
   "execution_count": 447,
   "metadata": {},
   "outputs": [],
   "source": [
    "df2 = shuffle(df2)"
   ]
  },
  {
   "cell_type": "code",
   "execution_count": 448,
   "metadata": {},
   "outputs": [
    {
     "name": "stdout",
     "output_type": "stream",
     "text": [
      "(100110,)\n",
      "(100110, 987)\n"
     ]
    }
   ],
   "source": [
    "# Define X, y\n",
    "y = df2['readmitted']\n",
    "print(y.shape)\n",
    "X = df2.drop('readmitted', axis=1)\n",
    "print(X.shape)"
   ]
  },
  {
   "cell_type": "markdown",
   "metadata": {},
   "source": [
    "## Dealing with imbalanced data"
   ]
  },
  {
   "cell_type": "code",
   "execution_count": 449,
   "metadata": {},
   "outputs": [],
   "source": [
    "def class_prevalence(label):\n",
    "    return (sum(label)/len(label))"
   ]
  },
  {
   "cell_type": "code",
   "execution_count": 450,
   "metadata": {},
   "outputs": [
    {
     "name": "stdout",
     "output_type": "stream",
     "text": [
      "0.11344521026870442\n"
     ]
    }
   ],
   "source": [
    "print(class_prevalence(y))"
   ]
  },
  {
   "cell_type": "markdown",
   "metadata": {},
   "source": [
    "The data is highly imbalanced. Only 11% of the observations belong to the class we are interested in. To overcome this I oversampled the data using Synthetic Minority Over-sampling Technique (SMOTE). \n"
   ]
  },
  {
   "cell_type": "code",
   "execution_count": 451,
   "metadata": {
    "scrolled": true
   },
   "outputs": [
    {
     "name": "stdout",
     "output_type": "stream",
     "text": [
      "Length of oversampled data is  124244\n",
      "Number of no subscription in oversampled data 62122\n",
      "Number of subscription 62122\n",
      "Proportion of no subscription data in oversampled data is  0.5\n",
      "Proportion of subscription data in oversampled data is  0.5\n"
     ]
    }
   ],
   "source": [
    "# Instantiate SMOTE and fit\n",
    "os = SMOTE(random_state=0)\n",
    "X_train, X_test, y_train, y_test = train_test_split(\n",
    "    X, y, test_size=0.3, random_state=0)\n",
    "columns = X_train.columns\n",
    "\n",
    "data_X_smote, data_y_smote = os.fit_sample(X_train, y_train)\n",
    "data_X_smote = pd.DataFrame(data=data_X_smote, columns=columns)\n",
    "data_y_smote = pd.DataFrame(data=data_y_smote, columns=['readmitted'])\n",
    "\n",
    "# Check the numbers of our data\n",
    "print(\"Length of oversampled data is \", len(data_X_smote))\n",
    "print(\"Number of no subscription in oversampled data\",\n",
    "      len(data_y_smote[data_y_smote['readmitted'] == 0]))\n",
    "print(\"Number of subscription\", len(\n",
    "    data_y_smote[data_y_smote['readmitted'] == 1]))\n",
    "print(\"Proportion of no subscription data in oversampled data is \", len(\n",
    "    data_y_smote[data_y_smote['readmitted'] == 0])/len(data_y_smote))\n",
    "print(\"Proportion of subscription data in oversampled data is \", len(\n",
    "    data_y_smote[data_y_smote['readmitted'] == 1])/len(data_y_smote))"
   ]
  },
  {
   "cell_type": "markdown",
   "metadata": {},
   "source": [
    "**Train/Valid/Test**"
   ]
  },
  {
   "cell_type": "markdown",
   "metadata": {},
   "source": [
    "Now it is time to split the data. The idea behind splitting the data is tomeasure how well the models would do on unseen data.\n"
   ]
  },
  {
   "cell_type": "code",
   "execution_count": 314,
   "metadata": {},
   "outputs": [],
   "source": [
    "X_valid, X_test, y_valid, y_test = train_test_split(\n",
    "    X_test, y_test, test_size=0.3, random_state=0)"
   ]
  },
  {
   "cell_type": "markdown",
   "metadata": {},
   "source": [
    "## Linear Classifiers"
   ]
  },
  {
   "cell_type": "markdown",
   "metadata": {},
   "source": [
    "### Logistic Regression"
   ]
  },
  {
   "cell_type": "code",
   "execution_count": 329,
   "metadata": {
    "scrolled": true
   },
   "outputs": [
    {
     "name": "stderr",
     "output_type": "stream",
     "text": [
      "/anaconda3/lib/python3.6/site-packages/sklearn/linear_model/logistic.py:433: FutureWarning: Default solver will be changed to 'lbfgs' in 0.22. Specify a solver to silence this warning.\n",
      "  FutureWarning)\n"
     ]
    }
   ],
   "source": [
    "# logistic Regression\n",
    "thresh = 0.5\n",
    "lr_b = LogisticRegression()\n",
    "lr_b.fit(data_X_smote, data_y_smote.values.ravel())\n",
    "\n",
    "filename = 'finalized_lr_b_model.sav'\n",
    "pickle.dump(lr_b, open(filename, 'wb'))\n",
    "\n",
    "lr_b = pickle.load(open(filename, 'rb'))\n",
    "lr_b_y_valid_preds = lr_b.predict(X_valid)"
   ]
  },
  {
   "cell_type": "code",
   "execution_count": 330,
   "metadata": {},
   "outputs": [
    {
     "name": "stdout",
     "output_type": "stream",
     "text": [
      "[[13332  5286]\n",
      " [ 1047  1358]]\n"
     ]
    }
   ],
   "source": [
    "# Make a confusion matrix and print\n",
    "confusion_matrix = confusion_matrix(y_valid, lr_b_y_valid_preds)\n",
    "print(confusion_matrix)"
   ]
  },
  {
   "cell_type": "code",
   "execution_count": 331,
   "metadata": {},
   "outputs": [
    {
     "name": "stdout",
     "output_type": "stream",
     "text": [
      "              precision    recall  f1-score   support\n",
      "\n",
      "           0       0.93      0.72      0.81     18618\n",
      "           1       0.20      0.56      0.30      2405\n",
      "\n",
      "   micro avg       0.70      0.70      0.70     21023\n",
      "   macro avg       0.57      0.64      0.55     21023\n",
      "weighted avg       0.84      0.70      0.75     21023\n",
      "\n"
     ]
    }
   ],
   "source": [
    "# Make a classification report and print\n",
    "lr_b_report = classification_report(y_valid, lr_b_y_valid_preds)\n",
    "print(lr_b_report)"
   ]
  },
  {
   "cell_type": "code",
   "execution_count": 332,
   "metadata": {},
   "outputs": [
    {
     "name": "stdout",
     "output_type": "stream",
     "text": [
      "Accuracy is 0.70\n",
      "Precision is 0.20\n",
      "Recall is 0.56\n",
      "AUC is 0.64\n"
     ]
    }
   ],
   "source": [
    "print(\"Accuracy is {0:.2f}\".format(\n",
    "    accuracy_score(y_valid, lr_b_y_valid_preds)))\n",
    "print(\"Precision is {0:.2f}\".format(\n",
    "    precision_score(y_valid, lr_b_y_valid_preds)))\n",
    "print(\"Recall is {0:.2f}\".format(recall_score(y_valid, lr_b_y_valid_preds)))\n",
    "print(\"AUC is {0:.2f}\".format(roc_auc_score(y_valid, lr_b_y_valid_preds)))"
   ]
  },
  {
   "cell_type": "code",
   "execution_count": 333,
   "metadata": {},
   "outputs": [
    {
     "name": "stdout",
     "output_type": "stream",
     "text": [
      "         Coefficients\n",
      "Columns              \n",
      "364          2.431824\n",
      "755          2.308392\n",
      "744          2.230753\n",
      "391          2.229017\n",
      "365.44       2.211285\n",
      "313          2.007075\n",
      "904          1.916936\n",
      "23           1.885453\n",
      "E817         1.880104\n",
      "96           1.863557\n",
      "913          1.842642\n",
      "49           1.783240\n",
      "136          1.781745\n",
      "474          1.746721\n",
      "48           1.718104\n",
      "580          1.702191\n",
      "894          1.645928\n",
      "E814         1.630983\n",
      "989          1.623256\n",
      "742          1.613419\n",
      "343          1.566100\n",
      "250.31       1.550325\n",
      "934          1.549940\n",
      "964          1.537248\n",
      "890          1.493655\n"
     ]
    }
   ],
   "source": [
    "lr_coef = lr_b.coef_.ravel()\n",
    "LR_Coef_table = pd.DataFrame({'Columns': data_X_smote.columns.tolist(),\n",
    "                              'Coefficients': lr_coef}).sort_values(by='Coefficients', ascending=False)\n",
    "LR_Coef_table\n",
    "\n",
    "LR_Coef_table_b = LR_Coef_table.set_index('Columns')\n",
    "LR_Coef_table_b\n",
    "\n",
    "top20_positive_coefficients = LR_Coef_table_b.iloc[:25, :]\n",
    "print(top20_positive_coefficients)"
   ]
  },
  {
   "cell_type": "code",
   "execution_count": 334,
   "metadata": {},
   "outputs": [
    {
     "data": {
      "image/png": "[encoded data removed]",
      "text/plain": [
       "<matplotlib.figure.Figure at 0x1375b8198>"
      ]
     },
     "metadata": {},
     "output_type": "display_data"
    }
   ],
   "source": [
    "ax = top20_positive_coefficients.plot(\n",
    "    kind='barh', figsize=(8, 10), color='r', zorder=2, width=0.85)\n",
    "# Despine\n",
    "ax.spines['right'].set_visible(False)\n",
    "ax.spines['top'].set_visible(False)\n",
    "ax.spines['left'].set_visible(False)\n",
    "ax.spines['bottom'].set_visible(False)\n",
    "\n",
    "# Switch off ticks\n",
    "ax.tick_params(axis=\"both\", which=\"both\", bottom=\"off\", top=\"off\",\n",
    "               labelbottom=\"on\", left=\"off\", right=\"off\", labelleft=\"on\")\n",
    "\n",
    "# Draw vertical axis lines\n",
    "vals = ax.get_xticks()\n",
    "for tick in vals:\n",
    "    ax.axvline(x=tick, linestyle='dashed',\n",
    "               alpha=0.4, color='#eeeeee', zorder=1)\n",
    "\n",
    "    # Set x-axis label\n",
    "    ax.set_xlabel(\"Coefficients\",\n",
    "                  labelpad=20, weight='bold', size=12)\n",
    "\n",
    "    # Set y-axis label\n",
    "    ax.set_ylabel(\"Features\", labelpad=20, weight='bold', size=12)\n",
    "\n",
    "    # Format y-axis label\n",
    "    ax.xaxis.set_major_formatter(StrMethodFormatter('{x:,g}'))\n",
    "\n",
    "    ax.set_title(\"Top 25 Factors\", weight='bold', size=20)"
   ]
  },
  {
   "cell_type": "markdown",
   "metadata": {},
   "source": [
    "### Support Vector Classifier"
   ]
  },
  {
   "cell_type": "markdown",
   "metadata": {},
   "source": [
    "Linear Kernel SVM algorithm is very sensitive to feature scaling, hence I normalized the features using sklearn preprocessor StandardScaler. \n",
    "\n",
    "**Scaling Features**"
   ]
  },
  {
   "cell_type": "code",
   "execution_count": 335,
   "metadata": {},
   "outputs": [
    {
     "name": "stderr",
     "output_type": "stream",
     "text": [
      "/anaconda3/lib/python3.6/site-packages/ipykernel_launcher.py:10: DataConversionWarning: Data with input dtype int64, float64 were all converted to float64 by StandardScaler.\n",
      "  # Remove the CWD from sys.path while we load stuff.\n"
     ]
    }
   ],
   "source": [
    "scaler = StandardScaler()\n",
    "scaler.fit(data_X_smote)\n",
    "\n",
    "scalerfile = 'scaler.sav'\n",
    "pickle.dump(scaler, open(scalerfile, 'wb'))\n",
    "# load it back\n",
    "scaler = pickle.load(open(scalerfile, 'rb'))\n",
    "\n",
    "X_train_scaled = scaler.transform(data_X_smote)\n",
    "X_valid_scaled = scaler.transform(X_valid)"
   ]
  },
  {
   "cell_type": "markdown",
   "metadata": {},
   "source": [
    "A critical parameter is, C (inverse of regularization strength), so it controls the bias/variance tradeoff. In particular it dictates how sensitive the decision boundary is to outliers.\n",
    "\n",
    "**Choosing C with GridSearch**"
   ]
  },
  {
   "cell_type": "code",
   "execution_count": null,
   "metadata": {},
   "outputs": [],
   "source": [
    "# Create my estimator and prepare the parameter grid dictionary\n",
    "params_dict = {\"C\": np.logspace(-1, 3, 25)}\n",
    "linear_svc_scaled_gs = LinearSVC()\n",
    "\n",
    "# Fit the grid search\n",
    "search = GridSearchCV(estimator=linear_svc_scaled_gs, param_grid=params_dict)\n",
    "\n",
    "search.fit(X_train_scaled, data_y_smote.values.ravel())\n",
    "\n",
    "print(\"Best parameter values:\", search.best_params_)\n",
    "print(\"CV Score with best parameter values:\", search.best_score_)"
   ]
  },
  {
   "cell_type": "code",
   "execution_count": null,
   "metadata": {},
   "outputs": [],
   "source": [
    "Best parameter values: {'C': 0.1}\n",
    "CV Score with best parameter values: 0.6391351561613641"
   ]
  },
  {
   "cell_type": "code",
   "execution_count": 337,
   "metadata": {},
   "outputs": [
    {
     "name": "stderr",
     "output_type": "stream",
     "text": [
      "/anaconda3/lib/python3.6/site-packages/sklearn/svm/base.py:931: ConvergenceWarning: Liblinear failed to converge, increase the number of iterations.\n",
      "  \"the number of iterations.\", ConvergenceWarning)\n"
     ]
    }
   ],
   "source": [
    "best_svm = LinearSVC(C=0.1, class_weight=None, dual=True, fit_intercept=True,\n",
    "                     intercept_scaling=1, loss='squared_hinge', max_iter=1000,\n",
    "                     multi_class='ovr', penalty='l2', random_state=None, tol=0.0001,\n",
    "                     verbose=0)\n",
    "\n",
    "# Capture and fit the best estimator from across the grid search\n",
    "\n",
    "best_svm.fit(X_train_scaled, data_y_smote.values.ravel())\n",
    "\n",
    "linearsvc_tuned = 'linear_svc_tuned_scaled.sav'\n",
    "pickle.dump(best_svm, open(linearsvc_tuned, 'wb'))\n",
    "\n",
    "linearsvc_tuned = pickle.load(open(linearsvc_tuned, 'rb'))\n",
    "\n",
    "linearsvc_tuned_preds = linearsvc_tuned.predict(X_valid_scaled)"
   ]
  },
  {
   "cell_type": "code",
   "execution_count": 339,
   "metadata": {},
   "outputs": [
    {
     "data": {
      "text/plain": [
       "array([[13127,  5491],\n",
       "       [ 1076,  1329]])"
      ]
     },
     "execution_count": 339,
     "metadata": {},
     "output_type": "execute_result"
    }
   ],
   "source": [
    "from sklearn.metrics import confusion_matrix\n",
    "# Make a confusion matrix and print\n",
    "linearsvc_cfm = confusion_matrix(\n",
    "    y_valid, linearsvc_tuned.predict(X_valid_scaled))\n",
    "linearsvc_cfm"
   ]
  },
  {
   "cell_type": "code",
   "execution_count": 340,
   "metadata": {},
   "outputs": [
    {
     "name": "stdout",
     "output_type": "stream",
     "text": [
      "              precision    recall  f1-score   support\n",
      "\n",
      "           0       0.92      0.71      0.80     18618\n",
      "           1       0.19      0.55      0.29      2405\n",
      "\n",
      "   micro avg       0.69      0.69      0.69     21023\n",
      "   macro avg       0.56      0.63      0.54     21023\n",
      "weighted avg       0.84      0.69      0.74     21023\n",
      "\n"
     ]
    }
   ],
   "source": [
    "# Make a classification report and print\n",
    "lsvc_report = classification_report(\n",
    "    y_valid, linearsvc_tuned.predict(X_valid_scaled))\n",
    "print(lsvc_report)"
   ]
  },
  {
   "cell_type": "code",
   "execution_count": 341,
   "metadata": {},
   "outputs": [
    {
     "name": "stdout",
     "output_type": "stream",
     "text": [
      "Accuracy is 0.69\n",
      "Precision is 0.19\n",
      "Recall is 0.55\n",
      "AUC is 0.63\n"
     ]
    }
   ],
   "source": [
    "print(\"Accuracy is {0:.2f}\".format(accuracy_score(\n",
    "    y_valid, linearsvc_tuned.predict(X_valid_scaled))))\n",
    "print(\"Precision is {0:.2f}\".format(precision_score(\n",
    "    y_valid, linearsvc_tuned.predict(X_valid_scaled))))\n",
    "print(\"Recall is {0:.2f}\".format(recall_score(\n",
    "    y_valid, linearsvc_tuned.predict(X_valid_scaled))))\n",
    "print(\"AUC is {0:.2f}\".format(roc_auc_score(\n",
    "    y_valid, linearsvc_tuned.predict(X_valid_scaled))))"
   ]
  },
  {
   "cell_type": "code",
   "execution_count": 359,
   "metadata": {},
   "outputs": [
    {
     "name": "stdout",
     "output_type": "stream",
     "text": [
      "                            Coefficients\n",
      "Columns                                 \n",
      "number_encounters               0.362906\n",
      "744                             0.320398\n",
      "age_[70-80)                     0.304113\n",
      "age_[80-90)                     0.268511\n",
      "age_[60-70)                     0.257770\n",
      "age_[50-60)                     0.192066\n",
      "894                             0.161962\n",
      "age_[40-50)                     0.155636\n",
      "365.44                          0.147461\n",
      "391                             0.143552\n",
      "E814                            0.129177\n",
      "rosiglitazone_No                0.118687\n",
      "age_[90-100)                    0.111022\n",
      "975                             0.109109\n",
      "age_[30-40)                     0.095999\n",
      "rosiglitazone_Steady            0.090271\n",
      "364                             0.082914\n",
      "nateglinide_No                  0.079943\n",
      "nateglinide_Steady              0.072789\n",
      "age_[20-30)                     0.066807\n",
      "glyburide-metformin_No          0.065097\n",
      "glyburide_No                    0.058642\n",
      "E922                            0.057426\n",
      "glyburide-metformin_Steady      0.051618\n",
      "A1Cresult_None                  0.039119\n"
     ]
    }
   ],
   "source": [
    "coef = best_svm.coef_.ravel()\n",
    "\n",
    "SVC_Coef_table = pd.DataFrame({'Columns': data_X_smote.columns.tolist(),\n",
    "                               'Coefficients': coef}).sort_values(by='Coefficients', ascending=False)\n",
    "\n",
    "SVC_Coef_table_b = SVC_Coef_table.set_index('Columns')\n",
    "SVC_Coef_table_b\n",
    "\n",
    "top25_positive_coefficients = SVC_Coef_table_b.iloc[:25, :]\n",
    "print(top25_positive_coefficients)"
   ]
  },
  {
   "cell_type": "code",
   "execution_count": 361,
   "metadata": {
    "scrolled": false
   },
   "outputs": [
    {
     "data": {
      "image/png": "[encoded data removed]",
      "text/plain": [
       "<matplotlib.figure.Figure at 0x1307d7668>"
      ]
     },
     "metadata": {},
     "output_type": "display_data"
    }
   ],
   "source": [
    "ax = top25_positive_coefficients.plot(\n",
    "    kind='barh', figsize=(8, 10), color='r', zorder=2, width=0.85)\n",
    "# Despine\n",
    "ax.spines['right'].set_visible(False)\n",
    "ax.spines['top'].set_visible(False)\n",
    "ax.spines['left'].set_visible(False)\n",
    "ax.spines['bottom'].set_visible(False)\n",
    "\n",
    "# Switch off ticks\n",
    "ax.tick_params(axis=\"both\", which=\"both\", bottom=\"off\", top=\"off\",\n",
    "               labelbottom=\"on\", left=\"off\", right=\"off\", labelleft=\"on\")\n",
    "\n",
    "# Draw vertical axis lines\n",
    "vals = ax.get_xticks()\n",
    "for tick in vals:\n",
    "    ax.axvline(x=tick, linestyle='dashed',\n",
    "               alpha=0.4, color='#eeeeee', zorder=1)\n",
    "\n",
    "    # Set x-axis label\n",
    "    ax.set_xlabel(\"Coefficients\",\n",
    "                  labelpad=20, weight='bold', size=16)\n",
    "\n",
    "    # Set y-axis label\n",
    "    ax.set_ylabel(\"Features\", labelpad=20, weight='bold', size=16)\n",
    "\n",
    "    # Format y-axis label\n",
    "    ax.xaxis.set_major_formatter(StrMethodFormatter('{x:,g}'))\n",
    "\n",
    "    ax.set_title(\"Top 25 Features\", weight='bold', size=20)"
   ]
  },
  {
   "cell_type": "markdown",
   "metadata": {},
   "source": []
  },
  {
   "cell_type": "markdown",
   "metadata": {},
   "source": [
    "## Tree-based Models"
   ]
  },
  {
   "cell_type": "code",
   "execution_count": 344,
   "metadata": {},
   "outputs": [],
   "source": [
    "from sklearn.tree import DecisionTreeClassifier\n",
    "from sklearn.ensemble import RandomForestClassifier\n",
    "from sklearn.ensemble import GradientBoostingClassifier"
   ]
  },
  {
   "cell_type": "markdown",
   "metadata": {},
   "source": [
    "### Decision Trees"
   ]
  },
  {
   "cell_type": "code",
   "execution_count": 345,
   "metadata": {},
   "outputs": [],
   "source": [
    "dt_b = DecisionTreeClassifier(max_depth=10, random_state=42)\n",
    "dt_b.fit(data_X_smote, data_y_smote.values.ravel())\n",
    "\n",
    "filename_dt_b = 'finalized_dt_b_model.sav'\n",
    "pickle.dump(dt_b, open(filename_dt_b, 'wb'))\n",
    "\n",
    "dt_b = pickle.load(open(filename_dt_b, 'rb'))\n",
    "\n",
    "#lr_y_train_preds = loaded_model.predict(data_X_smote)\n",
    "dt_b_y_valid_preds = dt_b.predict(X_valid)"
   ]
  },
  {
   "cell_type": "code",
   "execution_count": 346,
   "metadata": {},
   "outputs": [
    {
     "name": "stdout",
     "output_type": "stream",
     "text": [
      "[[16260  2358]\n",
      " [ 1573   832]]\n"
     ]
    }
   ],
   "source": [
    "dt_3_cfm = confusion_matrix(y_valid, dt_b_y_valid_preds)\n",
    "print(dt_3_cfm)"
   ]
  },
  {
   "cell_type": "code",
   "execution_count": 347,
   "metadata": {},
   "outputs": [
    {
     "name": "stdout",
     "output_type": "stream",
     "text": [
      "              precision    recall  f1-score   support\n",
      "\n",
      "           0       0.91      0.87      0.89     18618\n",
      "           1       0.26      0.35      0.30      2405\n",
      "\n",
      "   micro avg       0.81      0.81      0.81     21023\n",
      "   macro avg       0.59      0.61      0.59     21023\n",
      "weighted avg       0.84      0.81      0.82     21023\n",
      "\n"
     ]
    }
   ],
   "source": [
    "dt_b_report = classification_report(y_valid, dt_b_y_valid_preds)\n",
    "print(dt_b_report)"
   ]
  },
  {
   "cell_type": "code",
   "execution_count": 348,
   "metadata": {},
   "outputs": [
    {
     "name": "stdout",
     "output_type": "stream",
     "text": [
      "Accuracy is 0.81\n",
      "Precision is 0.26\n",
      "Recall is 0.35\n",
      "AUC is 0.61\n"
     ]
    }
   ],
   "source": [
    "print(\"Accuracy is {0:.2f}\".format(\n",
    "    accuracy_score(y_valid, dt_b_y_valid_preds)))\n",
    "print(\"Precision is {0:.2f}\".format(\n",
    "    precision_score(y_valid, dt_b_y_valid_preds)))\n",
    "print(\"Recall is {0:.2f}\".format(recall_score(y_valid, dt_b_y_valid_preds)))\n",
    "print(\"AUC is {0:.2f}\".format(roc_auc_score(y_valid, dt_b_y_valid_preds)))"
   ]
  },
  {
   "cell_type": "code",
   "execution_count": 368,
   "metadata": {},
   "outputs": [],
   "source": [
    "# Important Features\n",
    "DT_Important_Features = {}\n",
    "DT_Important_Features['Features'] = data_X_smote.columns.tolist()\n",
    "DT_Important_Features['Importance'] = dt_b.feature_importances_.tolist()\n",
    "DT_df = pd.DataFrame(DT_Important_Features).set_index(\n",
    "    'Features').sort_values(by='Importance', ascending=False)\n",
    "top_25_features = DT_df[:25]"
   ]
  },
  {
   "cell_type": "code",
   "execution_count": 369,
   "metadata": {},
   "outputs": [
    {
     "data": {
      "text/html": [
       "<div>\n",
       "<style scoped>\n",
       "    .dataframe tbody tr th:only-of-type {\n",
       "        vertical-align: middle;\n",
       "    }\n",
       "\n",
       "    .dataframe tbody tr th {\n",
       "        vertical-align: top;\n",
       "    }\n",
       "\n",
       "    .dataframe thead th {\n",
       "        text-align: right;\n",
       "    }\n",
       "</style>\n",
       "<table border=\"1\" class=\"dataframe\">\n",
       "  <thead>\n",
       "    <tr style=\"text-align: right;\">\n",
       "      <th></th>\n",
       "      <th>Importance</th>\n",
       "    </tr>\n",
       "    <tr>\n",
       "      <th>Features</th>\n",
       "      <th></th>\n",
       "    </tr>\n",
       "  </thead>\n",
       "  <tbody>\n",
       "    <tr>\n",
       "      <th>number_encounters</th>\n",
       "      <td>0.610933</td>\n",
       "    </tr>\n",
       "    <tr>\n",
       "      <th>number_inpatient_log1p</th>\n",
       "      <td>0.234129</td>\n",
       "    </tr>\n",
       "    <tr>\n",
       "      <th>age_[70-80)</th>\n",
       "      <td>0.038742</td>\n",
       "    </tr>\n",
       "    <tr>\n",
       "      <th>gender_Male</th>\n",
       "      <td>0.026491</td>\n",
       "    </tr>\n",
       "    <tr>\n",
       "      <th>age_[50-60)</th>\n",
       "      <td>0.017437</td>\n",
       "    </tr>\n",
       "    <tr>\n",
       "      <th>age_[80-90)</th>\n",
       "      <td>0.016282</td>\n",
       "    </tr>\n",
       "    <tr>\n",
       "      <th>434</th>\n",
       "      <td>0.011640</td>\n",
       "    </tr>\n",
       "    <tr>\n",
       "      <th>age_[60-70)</th>\n",
       "      <td>0.009854</td>\n",
       "    </tr>\n",
       "    <tr>\n",
       "      <th>A1Cresult_None</th>\n",
       "      <td>0.005277</td>\n",
       "    </tr>\n",
       "    <tr>\n",
       "      <th>584</th>\n",
       "      <td>0.002753</td>\n",
       "    </tr>\n",
       "    <tr>\n",
       "      <th>time_in_hospital</th>\n",
       "      <td>0.002331</td>\n",
       "    </tr>\n",
       "    <tr>\n",
       "      <th>change_No</th>\n",
       "      <td>0.001677</td>\n",
       "    </tr>\n",
       "    <tr>\n",
       "      <th>insulin_Steady</th>\n",
       "      <td>0.001612</td>\n",
       "    </tr>\n",
       "    <tr>\n",
       "      <th>996</th>\n",
       "      <td>0.001556</td>\n",
       "    </tr>\n",
       "    <tr>\n",
       "      <th>571</th>\n",
       "      <td>0.001030</td>\n",
       "    </tr>\n",
       "    <tr>\n",
       "      <th>440</th>\n",
       "      <td>0.001003</td>\n",
       "    </tr>\n",
       "    <tr>\n",
       "      <th>239</th>\n",
       "      <td>0.000975</td>\n",
       "    </tr>\n",
       "    <tr>\n",
       "      <th>num_lab_procedures</th>\n",
       "      <td>0.000933</td>\n",
       "    </tr>\n",
       "    <tr>\n",
       "      <th>174</th>\n",
       "      <td>0.000794</td>\n",
       "    </tr>\n",
       "    <tr>\n",
       "      <th>repaglinide_Up</th>\n",
       "      <td>0.000609</td>\n",
       "    </tr>\n",
       "    <tr>\n",
       "      <th>112</th>\n",
       "      <td>0.000593</td>\n",
       "    </tr>\n",
       "    <tr>\n",
       "      <th>530</th>\n",
       "      <td>0.000530</td>\n",
       "    </tr>\n",
       "    <tr>\n",
       "      <th>511</th>\n",
       "      <td>0.000517</td>\n",
       "    </tr>\n",
       "    <tr>\n",
       "      <th>457</th>\n",
       "      <td>0.000406</td>\n",
       "    </tr>\n",
       "    <tr>\n",
       "      <th>708</th>\n",
       "      <td>0.000405</td>\n",
       "    </tr>\n",
       "  </tbody>\n",
       "</table>\n",
       "</div>"
      ],
      "text/plain": [
       "                        Importance\n",
       "Features                          \n",
       "number_encounters         0.610933\n",
       "number_inpatient_log1p    0.234129\n",
       "age_[70-80)               0.038742\n",
       "gender_Male               0.026491\n",
       "age_[50-60)               0.017437\n",
       "age_[80-90)               0.016282\n",
       "434                       0.011640\n",
       "age_[60-70)               0.009854\n",
       "A1Cresult_None            0.005277\n",
       "584                       0.002753\n",
       "time_in_hospital          0.002331\n",
       "change_No                 0.001677\n",
       "insulin_Steady            0.001612\n",
       "996                       0.001556\n",
       "571                       0.001030\n",
       "440                       0.001003\n",
       "239                       0.000975\n",
       "num_lab_procedures        0.000933\n",
       "174                       0.000794\n",
       "repaglinide_Up            0.000609\n",
       "112                       0.000593\n",
       "530                       0.000530\n",
       "511                       0.000517\n",
       "457                       0.000406\n",
       "708                       0.000405"
      ]
     },
     "execution_count": 369,
     "metadata": {},
     "output_type": "execute_result"
    }
   ],
   "source": [
    "top_25_features"
   ]
  },
  {
   "cell_type": "code",
   "execution_count": 371,
   "metadata": {},
   "outputs": [
    {
     "data": {
      "image/png": "[encoded data removed]",
      "text/plain": [
       "<matplotlib.figure.Figure at 0x124486438>"
      ]
     },
     "metadata": {},
     "output_type": "display_data"
    }
   ],
   "source": [
    "ax = top_25_features.plot(kind='barh', figsize=(\n",
    "    8, 10), color='b', zorder=2, width=0.85)\n",
    "\n",
    "# Despine\n",
    "ax.spines['right'].set_visible(False)\n",
    "ax.spines['left'].set_visible(False)\n",
    "ax.spines['top'].set_visible(False)\n",
    "ax.spines['bottom'].set_visible(False)\n",
    "\n",
    "# Switch off ticks\n",
    "ax.tick_params(axis='both', which='both', bottom='off', top='off',\n",
    "               labelbottom='on', right='off', labelleft='on')\n",
    "\n",
    "# Draw vertical axis lines\n",
    "vals = ax.get_xticks()\n",
    "for tick in vals:\n",
    "    ax.axvline(x=tick, linestyle='dashed',\n",
    "               alpha=0.4, color='#eeeeee', zorder=1)\n",
    "\n",
    "    # Set x-axis label\n",
    "    ax.set_xlabel(\"Importance\",\n",
    "                  labelpad=20, weight='bold', size=16)\n",
    "\n",
    "    # Set y-axis label\n",
    "    ax.set_ylabel(\"Features\", labelpad=20, weight='bold', size=16)\n",
    "\n",
    "    # Format y-axis label\n",
    "    ax.xaxis.set_major_formatter(StrMethodFormatter('{x:,g}'))\n",
    "\n",
    "    ax.set_title(\"Top 25 Factors\", weight='bold', size=20)"
   ]
  },
  {
   "cell_type": "markdown",
   "metadata": {},
   "source": [
    "### Random Forest"
   ]
  },
  {
   "cell_type": "code",
   "execution_count": 372,
   "metadata": {},
   "outputs": [
    {
     "name": "stderr",
     "output_type": "stream",
     "text": [
      "/anaconda3/lib/python3.6/site-packages/sklearn/ensemble/forest.py:246: FutureWarning: The default value of n_estimators will change from 10 in version 0.20 to 100 in 0.22.\n",
      "  \"10 in version 0.20 to 100 in 0.22.\", FutureWarning)\n",
      "/anaconda3/lib/python3.6/site-packages/ipykernel_launcher.py:6: DataConversionWarning: A column-vector y was passed when a 1d array was expected. Please change the shape of y to (n_samples,), for example using ravel().\n",
      "  \n"
     ]
    }
   ],
   "source": [
    "# Instantiate a random forest classifier with default parameters\n",
    "rf3 = RandomForestClassifier()\n",
    "rf3\n",
    "\n",
    "# model fitting\n",
    "rf3.fit(data_X_smote, data_y_smote)\n",
    "\n",
    "# Pickle the model for later use\n",
    "filename_rf3 = 'finalized_rf3_model.sav'\n",
    "pickle.dump(rf3, open(filename_rf3, 'wb'))\n",
    "\n",
    "# Load the model\n",
    "rf3_model = pickle.load(open('finalized_rf3_model.sav', 'rb'))\n",
    "\n",
    "#rf2_y_train_preds = rf2_model.predict(data_X_smote)\n",
    "rf3_y_valid_preds = rf3_model.predict(X_valid)"
   ]
  },
  {
   "cell_type": "markdown",
   "metadata": {},
   "source": [
    "**Results**"
   ]
  },
  {
   "cell_type": "code",
   "execution_count": 373,
   "metadata": {},
   "outputs": [
    {
     "data": {
      "text/plain": [
       "array([[18493,   125],\n",
       "       [ 2326,    79]])"
      ]
     },
     "execution_count": 373,
     "metadata": {},
     "output_type": "execute_result"
    }
   ],
   "source": [
    "cfm = confusion_matrix(y_valid, rf3_y_valid_preds)\n",
    "cfm"
   ]
  },
  {
   "cell_type": "code",
   "execution_count": 374,
   "metadata": {},
   "outputs": [
    {
     "name": "stdout",
     "output_type": "stream",
     "text": [
      "              precision    recall  f1-score   support\n",
      "\n",
      "           0       0.89      0.99      0.94     18618\n",
      "           1       0.39      0.03      0.06      2405\n",
      "\n",
      "   micro avg       0.88      0.88      0.88     21023\n",
      "   macro avg       0.64      0.51      0.50     21023\n",
      "weighted avg       0.83      0.88      0.84     21023\n",
      "\n"
     ]
    }
   ],
   "source": [
    "print(classification_report(y_valid, rf3_y_valid_preds))"
   ]
  },
  {
   "cell_type": "code",
   "execution_count": 375,
   "metadata": {},
   "outputs": [
    {
     "name": "stdout",
     "output_type": "stream",
     "text": [
      "Accuracy is 0.88\n",
      "Precision is 0.39\n",
      "Recall is 0.03\n",
      "AUC is 0.51\n"
     ]
    }
   ],
   "source": [
    "print(\"Accuracy is {0:.2f}\".format(accuracy_score(y_valid, rf3_y_valid_preds)))\n",
    "print(\"Precision is {0:.2f}\".format(\n",
    "    precision_score(y_valid, rf3_y_valid_preds)))\n",
    "print(\"Recall is {0:.2f}\".format(recall_score(y_valid, rf3_y_valid_preds)))\n",
    "print(\"AUC is {0:.2f}\".format(roc_auc_score(y_valid, rf3_y_valid_preds)))"
   ]
  },
  {
   "cell_type": "markdown",
   "metadata": {},
   "source": [
    "### Random Forest - Hyperparameters RandomizedSearch"
   ]
  },
  {
   "cell_type": "code",
   "execution_count": null,
   "metadata": {},
   "outputs": [],
   "source": [
    "# Create the random grid\n",
    "random_grid = {'n_estimators': [int(x) for x in np.linspace(start=200, stop=2000, num=10)],\n",
    "               'max_features': ['auto', 'sqrt'],\n",
    "               'max_depth': [int(x) for x in np.linspace(10, 110, num=11)],\n",
    "               'min_samples_split': [2, 5, 10],\n",
    "               'min_samples_leaf': [1, 2, 4],\n",
    "               'bootstrap': [True, False]}"
   ]
  },
  {
   "cell_type": "code",
   "execution_count": null,
   "metadata": {},
   "outputs": [],
   "source": [
    "rf4_RS = RandomizedSearchCV(estimator=rf3, param_distributions=random_grid,\n",
    "                            n_iter=3, cv=3, verbose=2, random_state=42, n_jobs=-1)"
   ]
  },
  {
   "cell_type": "code",
   "execution_count": null,
   "metadata": {
    "scrolled": true
   },
   "outputs": [],
   "source": [
    "rf4_RS.fit(data_X_smote, data_y_smote.values.ravel())"
   ]
  },
  {
   "cell_type": "code",
   "execution_count": null,
   "metadata": {},
   "outputs": [],
   "source": [
    "best_random_grid = rf4_RS.best_params_\n",
    "best_random_grid"
   ]
  },
  {
   "cell_type": "markdown",
   "metadata": {},
   "source": [
    "**RandomForest - best hyperparameters**"
   ]
  },
  {
   "cell_type": "code",
   "execution_count": 378,
   "metadata": {},
   "outputs": [],
   "source": [
    "clf_final = RandomForestClassifier(bootstrap=False,\n",
    "                                   max_depth=10,\n",
    "                                   min_samples_leaf=1,\n",
    "                                   min_samples_split=40,\n",
    "                                   n_estimators=1000)\n",
    "\n",
    "clf_final.fit(data_X_smote, data_y_smote.values.ravel())\n",
    "\n",
    "filename_rf_b = 'finalized_rf_rs_b_model.sav'\n",
    "pickle.dump(clf_final, open(filename_rf_b, 'wb'))\n",
    "\n",
    "clf_final_b = pickle.load(open(filename_rf_b, 'rb'))\n",
    "\n",
    "clf_final_b_y_valid_preds = clf_final_b.predict(X_valid)"
   ]
  },
  {
   "cell_type": "markdown",
   "metadata": {},
   "source": [
    "**Results**"
   ]
  },
  {
   "cell_type": "code",
   "execution_count": 379,
   "metadata": {},
   "outputs": [
    {
     "name": "stdout",
     "output_type": "stream",
     "text": [
      "[[16513  2105]\n",
      " [ 1820   585]]\n"
     ]
    }
   ],
   "source": [
    "clf_rf_rs_cfm = confusion_matrix(y_valid, clf_final_b_y_valid_preds)\n",
    "print(clf_rf_rs_cfm)"
   ]
  },
  {
   "cell_type": "code",
   "execution_count": 380,
   "metadata": {},
   "outputs": [
    {
     "name": "stdout",
     "output_type": "stream",
     "text": [
      "              precision    recall  f1-score   support\n",
      "\n",
      "           0       0.90      0.89      0.89     18618\n",
      "           1       0.22      0.24      0.23      2405\n",
      "\n",
      "   micro avg       0.81      0.81      0.81     21023\n",
      "   macro avg       0.56      0.57      0.56     21023\n",
      "weighted avg       0.82      0.81      0.82     21023\n",
      "\n"
     ]
    }
   ],
   "source": [
    "clf_rf_rs_report = classification_report(y_valid, clf_final_b_y_valid_preds)\n",
    "print(clf_rf_rs_report)"
   ]
  },
  {
   "cell_type": "code",
   "execution_count": 381,
   "metadata": {},
   "outputs": [
    {
     "name": "stdout",
     "output_type": "stream",
     "text": [
      "Accuracy is 0.81\n",
      "Precision is 0.22\n",
      "Recall is 0.24\n",
      "AUC is 0.57\n"
     ]
    }
   ],
   "source": [
    "print(\"Accuracy is {0:.2f}\".format(\n",
    "    accuracy_score(y_valid, clf_final_b_y_valid_preds)))\n",
    "print(\"Precision is {0:.2f}\".format(\n",
    "    precision_score(y_valid, clf_final_b_y_valid_preds)))\n",
    "print(\"Recall is {0:.2f}\".format(\n",
    "    recall_score(y_valid, clf_final_b_y_valid_preds)))\n",
    "print(\"AUC is {0:.2f}\".format(roc_auc_score(\n",
    "    y_valid, clf_final_b_y_valid_preds)))"
   ]
  },
  {
   "cell_type": "markdown",
   "metadata": {},
   "source": [
    "### Gradient Boosting Machines"
   ]
  },
  {
   "cell_type": "code",
   "execution_count": 382,
   "metadata": {},
   "outputs": [],
   "source": [
    "gbc4 = GradientBoostingClassifier(n_estimators=50, learning_rate=1.0,\n",
    "                                  max_depth=3, random_state=42)\n",
    "gbc4.fit(data_X_smote, data_y_smote.values.ravel())\n",
    "\n",
    "filename_gbc4 = 'finalized_gbc4_model.sav'\n",
    "pickle.dump(gbc4, open(filename_gbc4, 'wb'))\n",
    "\n",
    "gbc4_model = pickle.load(open(filename_gbc4, 'rb'))\n",
    "gbc4_y_valid_predict = gbc4_model.predict(X_valid)"
   ]
  },
  {
   "cell_type": "code",
   "execution_count": 383,
   "metadata": {},
   "outputs": [
    {
     "name": "stdout",
     "output_type": "stream",
     "text": [
      "[[18439   179]\n",
      " [ 2319    86]]\n"
     ]
    }
   ],
   "source": [
    "confusion_matrix = confusion_matrix(y_valid, gbc4_y_valid_predict)\n",
    "print(confusion_matrix)"
   ]
  },
  {
   "cell_type": "code",
   "execution_count": 384,
   "metadata": {
    "scrolled": true
   },
   "outputs": [
    {
     "name": "stdout",
     "output_type": "stream",
     "text": [
      "              precision    recall  f1-score   support\n",
      "\n",
      "           0       0.89      0.99      0.94     18618\n",
      "           1       0.32      0.04      0.06      2405\n",
      "\n",
      "   micro avg       0.88      0.88      0.88     21023\n",
      "   macro avg       0.61      0.51      0.50     21023\n",
      "weighted avg       0.82      0.88      0.84     21023\n",
      "\n"
     ]
    }
   ],
   "source": [
    "print(classification_report(y_valid, gbc4_y_valid_predict))"
   ]
  },
  {
   "cell_type": "code",
   "execution_count": 385,
   "metadata": {},
   "outputs": [
    {
     "name": "stdout",
     "output_type": "stream",
     "text": [
      "Accuracy is 0.88\n",
      "Precision is 0.32\n",
      "Recall is 0.04\n",
      "AUC is 0.51\n"
     ]
    }
   ],
   "source": [
    "print(\"Accuracy is {0:.2f}\".format(\n",
    "    accuracy_score(y_valid, gbc4_y_valid_predict)))\n",
    "print(\"Precision is {0:.2f}\".format(\n",
    "    precision_score(y_valid, gbc4_y_valid_predict)))\n",
    "print(\"Recall is {0:.2f}\".format(recall_score(y_valid, gbc4_y_valid_predict)))\n",
    "print(\"AUC is {0:.2f}\".format(roc_auc_score(y_valid, gbc4_y_valid_predict)))"
   ]
  },
  {
   "cell_type": "markdown",
   "metadata": {},
   "source": [
    "**GBM Hyperparameter tuning**"
   ]
  },
  {
   "cell_type": "markdown",
   "metadata": {},
   "source": [
    "I will use AUC (Area Under Curve) as the evaluation metric and tune the model. AUC is a good way for evaluation for binary classification problem."
   ]
  },
  {
   "cell_type": "markdown",
   "metadata": {},
   "source": [
    "**Tuning max_depth**"
   ]
  },
  {
   "cell_type": "code",
   "execution_count": 397,
   "metadata": {},
   "outputs": [],
   "source": [
    "gbc4_b = GradientBoostingClassifier(n_estimators=50, learning_rate=1.0,\n",
    "                                    random_state=42)\n",
    "\n",
    "max_depths = np.linspace(1, 30, 8, endpoint=True)\n",
    "\n",
    "train_results = []\n",
    "test_results = []\n",
    "\n",
    "for max_depth in max_depths:\n",
    "    gbc4_b.fit(data_X_smote, data_y_smote.values.ravel())\n",
    "    train_predict = gbc4_b.predict(data_X_smote)\n",
    "\n",
    "    false_positive_rate, true_positive_rate, thresholds = roc_curve(\n",
    "        data_y_smote.values.ravel(), train_predict)\n",
    "    roc_auc = auc(false_positive_rate, true_positive_rate)\n",
    "    train_results.append(roc_auc)\n",
    "\n",
    "    y_predict = gbc4_b.predict(X_valid)\n",
    "\n",
    "    false_positive_rate, true_positive_rate, thresholds = roc_curve(\n",
    "        y_valid, y_predict)\n",
    "    roc_auc = auc(false_positive_rate, true_positive_rate)\n",
    "    test_results.append(roc_auc)\n",
    "\n",
    "\n",
    "line1, = plt.plot(max_depths, train_results, 'b', label='Train AUC')\n",
    "line2, = plt.plot(max_depths, test_results, 'r', label='Test AUC')\n",
    "\n",
    "plt.legend(handler_map={line1: HandlerLine2D(numpoints=2)})\n",
    "\n",
    "plt.ylabel('AUC score')\n",
    "plt.xlabel('Tree depth')\n",
    "plt.show()"
   ]
  },
  {
   "cell_type": "markdown",
   "metadata": {},
   "source": [
    "**Tuning min_samples_leaf**"
   ]
  },
  {
   "cell_type": "code",
   "execution_count": 398,
   "metadata": {
    "scrolled": true
   },
   "outputs": [],
   "source": [
    "# Define the range of values\n",
    "min_samples_leaf = [0.12, 0.14, 0.16, 0.18]\n",
    "\n",
    "# Instantiate the model\n",
    "gbc4_c = GradientBoostingClassifier(n_estimators=50, learning_rate=1.0, max_depth=3,\n",
    "                                    random_state=42)\n",
    "\n",
    "train_results = []\n",
    "test_results = []\n",
    "\n",
    "for min_sample_leaf in min_samples_leaf:\n",
    "    gbc4_c.fit(data_X_smote, data_y_smote.values.ravel())\n",
    "    train_predict = gbc4_c.predict(data_X_smote)\n",
    "\n",
    "    false_positive_rate, true_positive_rate, thresholds = roc_curve(\n",
    "        data_y_smote.values.ravel(), train_predict)\n",
    "    roc_auc = auc(false_positive_rate, true_positive_rate)\n",
    "    train_results.append(roc_auc)\n",
    "\n",
    "    y_predict = gbc4_c.predict(X_valid)\n",
    "\n",
    "    false_positive_rate, true_positive_rate, thresholds = roc_curve(\n",
    "        y_valid, y_predict)\n",
    "    roc_auc = auc(false_positive_rate, true_positive_rate)\n",
    "    test_results.append(roc_auc)\n",
    "\n",
    "# Plot the AUC vs the min_samples_leaf values\n",
    "line1, = plt.plot(min_samples_leaf, train_results, 'b', label='Train AUC')\n",
    "line2, = plt.plot(min_samples_leaf, test_results, 'r', label='Test AUC')\n",
    "\n",
    "plt.legend(handler_map={line1: HandlerLine2D(numpoints=2)})\n",
    "\n",
    "plt.ylabel('AUC score')\n",
    "plt.xlabel('Tree depth')\n",
    "plt.show()"
   ]
  },
  {
   "cell_type": "markdown",
   "metadata": {},
   "source": [
    "**Tuning min_samples_splits**"
   ]
  },
  {
   "cell_type": "code",
   "execution_count": 400,
   "metadata": {},
   "outputs": [],
   "source": [
    "# Define the range of values\n",
    "min_samples_splits = np.linspace(0.1, 1.0, 10, endpoint=True)\n",
    "\n",
    "gbc4_d = GradientBoostingClassifier(n_estimators=50,\n",
    "                                    learning_rate=1.0,\n",
    "                                    max_depth=3,\n",
    "                                    min_samples_leaf=0.12,\n",
    "                                    random_state=42)\n",
    "\n",
    "train_results_d = []\n",
    "test_results_d = []\n",
    "for min_samples_split in min_samples_splits:\n",
    "    gbc4_d.fit(data_X_smote, data_y_smote.values.ravel())\n",
    "    train_predict = gbc4_d.predict(data_X_smote)\n",
    "\n",
    "    false_positive_rate, true_positive_rate, thresholds = roc_curve(\n",
    "        data_y_smote.values.ravel(), train_predict)\n",
    "    roc_auc = auc(false_positive_rate, true_positive_rate)\n",
    "    train_results_d.append(roc_auc)\n",
    "\n",
    "    y_predict = gbc4_d.predict(X_valid)\n",
    "\n",
    "    false_positive_rate, true_positive_rate, thresholds = roc_curve(\n",
    "        y_valid, y_predict)\n",
    "    roc_auc = auc(false_positive_rate, true_positive_rate)\n",
    "    test_results_d.append(roc_auc)\n",
    "\n",
    "\n",
    "line1, = plt.plot(min_samples_splits, train_results_d, 'b', label='Train AUC')\n",
    "line2, = plt.plot(min_samples_splits, test_results_d, 'r', label='Test AUC')\n",
    "\n",
    "plt.legend(handler_map={line1: HandlerLine2D(numpoints=2)})\n",
    "\n",
    "plt.ylabel('AUC score')\n",
    "plt.xlabel('min_samples_splits')\n",
    "plt.show()"
   ]
  },
  {
   "cell_type": "markdown",
   "metadata": {},
   "source": [
    "**Tuning Learning Rates**"
   ]
  },
  {
   "cell_type": "code",
   "execution_count": 401,
   "metadata": {},
   "outputs": [],
   "source": [
    "# Define the range of values\n",
    "learning_rates = [0.001, 0.01, 0.1, 0.2, 0, 3]\n",
    "\n",
    "gbc4_e = GradientBoostingClassifier(n_estimators=50,\n",
    "                                    learning_rate=1.0,\n",
    "                                    max_depth=3,\n",
    "                                    min_samples_leaf=0.12,\n",
    "                                    min_samples_split=0.2,\n",
    "                                    random_state=42)\n",
    "\n",
    "train_results_e = []\n",
    "test_results_e = []\n",
    "for learning_rate in learning_rates:\n",
    "    gbc4_e.fit(data_X_smote, data_y_smote.values.ravel())\n",
    "    train_predict = gbc4_e.predict(data_X_smote)\n",
    "\n",
    "    false_positive_rate, true_positive_rate, thresholds = roc_curve(\n",
    "        data_y_smote.values.ravel(), train_predict)\n",
    "    roc_auc = auc(false_positive_rate, true_positive_rate)\n",
    "    train_results_e.append(roc_auc)\n",
    "\n",
    "    y_predict = gbc4_e.predict(X_valid)\n",
    "\n",
    "    false_positive_rate, true_positive_rate, thresholds = roc_curve(\n",
    "        y_valid, y_predict)\n",
    "    roc_auc = auc(false_positive_rate, true_positive_rate)\n",
    "    test_results_e.append(roc_auc)\n",
    "\n",
    "# Plot AUC vs Learning Rates\n",
    "line1, = plt.plot(learning_rates, train_results_e, 'b', label='Train AUC')\n",
    "line2, = plt.plot(learning_rates, test_results_e, 'r', label='Test AUC')\n",
    "\n",
    "plt.legend(handler_map={line1: HandlerLine2D(numpoints=2)})\n",
    "\n",
    "plt.ylabel('AUC score')\n",
    "plt.xlabel('min_samples_splits')\n",
    "plt.show()"
   ]
  },
  {
   "cell_type": "code",
   "execution_count": 387,
   "metadata": {},
   "outputs": [],
   "source": [
    "gbc4_final = GradientBoostingClassifier(n_estimators=200,\n",
    "                                        max_depth=3,\n",
    "                                        min_samples_leaf=0.12,\n",
    "                                        min_samples_split=0.2,\n",
    "                                        learning_rate=0.1,\n",
    "                                        random_state=42)"
   ]
  },
  {
   "cell_type": "code",
   "execution_count": 388,
   "metadata": {},
   "outputs": [
    {
     "data": {
      "text/plain": [
       "GradientBoostingClassifier(criterion='friedman_mse', init=None,\n",
       "              learning_rate=0.1, loss='deviance', max_depth=3,\n",
       "              max_features=None, max_leaf_nodes=None,\n",
       "              min_impurity_decrease=0.0, min_impurity_split=None,\n",
       "              min_samples_leaf=0.12, min_samples_split=0.2,\n",
       "              min_weight_fraction_leaf=0.0, n_estimators=200,\n",
       "              n_iter_no_change=None, presort='auto', random_state=42,\n",
       "              subsample=1.0, tol=0.0001, validation_fraction=0.1,\n",
       "              verbose=0, warm_start=False)"
      ]
     },
     "execution_count": 388,
     "metadata": {},
     "output_type": "execute_result"
    }
   ],
   "source": [
    "gbc4_final.fit(data_X_smote, data_y_smote.values.ravel())"
   ]
  },
  {
   "cell_type": "code",
   "execution_count": 389,
   "metadata": {},
   "outputs": [],
   "source": [
    "gbc4_final_y_valid_predict = gbc4_final.predict(X_valid)"
   ]
  },
  {
   "cell_type": "code",
   "execution_count": 391,
   "metadata": {},
   "outputs": [
    {
     "name": "stdout",
     "output_type": "stream",
     "text": [
      "[[18346   272]\n",
      " [ 2294   111]]\n"
     ]
    }
   ],
   "source": [
    "from sklearn.metrics import confusion_matrix\n",
    "confusion_matrix = confusion_matrix(y_valid, gbc4_final_y_valid_predict)\n",
    "print(confusion_matrix)"
   ]
  },
  {
   "cell_type": "code",
   "execution_count": 392,
   "metadata": {},
   "outputs": [
    {
     "name": "stdout",
     "output_type": "stream",
     "text": [
      "              precision    recall  f1-score   support\n",
      "\n",
      "           0       0.89      0.99      0.93     18618\n",
      "           1       0.29      0.05      0.08      2405\n",
      "\n",
      "   micro avg       0.88      0.88      0.88     21023\n",
      "   macro avg       0.59      0.52      0.51     21023\n",
      "weighted avg       0.82      0.88      0.84     21023\n",
      "\n"
     ]
    }
   ],
   "source": [
    "print(classification_report(y_valid, gbc4_final_y_valid_predict))"
   ]
  },
  {
   "cell_type": "code",
   "execution_count": 393,
   "metadata": {
    "scrolled": true
   },
   "outputs": [
    {
     "name": "stdout",
     "output_type": "stream",
     "text": [
      "Accuracy is 0.88\n",
      "Precision is 0.29\n",
      "Recall is 0.05\n",
      "AUC is 0.52\n"
     ]
    }
   ],
   "source": [
    "print(\"Accuracy is {0:.2f}\".format(\n",
    "    accuracy_score(y_valid, gbc4_final_y_valid_predict)))\n",
    "print(\"Precision is {0:.2f}\".format(\n",
    "    precision_score(y_valid, gbc4_final_y_valid_predict)))\n",
    "print(\"Recall is {0:.2f}\".format(\n",
    "    recall_score(y_valid, gbc4_final_y_valid_predict)))\n",
    "print(\"AUC is {0:.2f}\".format(roc_auc_score(\n",
    "    y_valid, gbc4_final_y_valid_predict)))"
   ]
  },
  {
   "cell_type": "markdown",
   "metadata": {},
   "source": [
    "## Model Evaluation"
   ]
  },
  {
   "cell_type": "markdown",
   "metadata": {},
   "source": [
    "Let's summarize the AUC results from all our models"
   ]
  },
  {
   "cell_type": "code",
   "execution_count": 404,
   "metadata": {},
   "outputs": [],
   "source": [
    "df_results = pd.DataFrame({\n",
    "    'classifier': ['Logistic Regression', 'Support Vector Classifier', 'Decision Tree', 'Random Forest - Tuned', 'Gradient Boosting Machines - Tuned'],\n",
    "    'auc': [0.64, 0.63, 0.61, 0.57, 0.52]})"
   ]
  },
  {
   "cell_type": "code",
   "execution_count": 405,
   "metadata": {
    "scrolled": false
   },
   "outputs": [
    {
     "data": {
      "text/html": [
       "<div>\n",
       "<style scoped>\n",
       "    .dataframe tbody tr th:only-of-type {\n",
       "        vertical-align: middle;\n",
       "    }\n",
       "\n",
       "    .dataframe tbody tr th {\n",
       "        vertical-align: top;\n",
       "    }\n",
       "\n",
       "    .dataframe thead th {\n",
       "        text-align: right;\n",
       "    }\n",
       "</style>\n",
       "<table border=\"1\" class=\"dataframe\">\n",
       "  <thead>\n",
       "    <tr style=\"text-align: right;\">\n",
       "      <th></th>\n",
       "      <th>auc</th>\n",
       "      <th>classifier</th>\n",
       "    </tr>\n",
       "  </thead>\n",
       "  <tbody>\n",
       "    <tr>\n",
       "      <th>0</th>\n",
       "      <td>0.64</td>\n",
       "      <td>Logistic Regression</td>\n",
       "    </tr>\n",
       "    <tr>\n",
       "      <th>1</th>\n",
       "      <td>0.63</td>\n",
       "      <td>Support Vector Classifier</td>\n",
       "    </tr>\n",
       "    <tr>\n",
       "      <th>2</th>\n",
       "      <td>0.61</td>\n",
       "      <td>Decision Tree</td>\n",
       "    </tr>\n",
       "    <tr>\n",
       "      <th>3</th>\n",
       "      <td>0.57</td>\n",
       "      <td>Random Forest - Tuned</td>\n",
       "    </tr>\n",
       "    <tr>\n",
       "      <th>4</th>\n",
       "      <td>0.52</td>\n",
       "      <td>Gradient Boosting Machines - Tuned</td>\n",
       "    </tr>\n",
       "  </tbody>\n",
       "</table>\n",
       "</div>"
      ],
      "text/plain": [
       "    auc                          classifier\n",
       "0  0.64                 Logistic Regression\n",
       "1  0.63           Support Vector Classifier\n",
       "2  0.61                       Decision Tree\n",
       "3  0.57               Random Forest - Tuned\n",
       "4  0.52  Gradient Boosting Machines - Tuned"
      ]
     },
     "execution_count": 405,
     "metadata": {},
     "output_type": "execute_result"
    }
   ],
   "source": [
    "df_results"
   ]
  },
  {
   "cell_type": "markdown",
   "metadata": {},
   "source": [
    "# Conclusion"
   ]
  },
  {
   "cell_type": "markdown",
   "metadata": {},
   "source": [
    "Through this project, I created a binary classifier to predict the probability that a patient with diabetes would be readmitted to the hospital within 30 days. On held out data, my best model was Logistic Regression with AUC of 0.64. My best model performs approximately 1.8 times better than randomly selecting patients.\n",
    "\n",
    "Linear Classifiers performed better than the tree-based models.\n",
    "\n",
    "Linear classifiers and Tree-based classifiers identified a number of diagnostic codes as top predictors for patient readmission. \n",
    "\n",
    "* Patients with a history of readmission are more likley to be readmitted again. \n",
    "\n",
    "* Age of the patients is another key feature. Older patients are more likely to be readmitted. Hence more attention should be paid to older patients. \n",
    "\n",
    "* Diabetes Medicines 'Rosiglitazone', 'Nateglinide', 'Glyburide', Glyburide-metformin'  seem to control patients from readmission. Patients not given these drugs are more likely to be readmitted.\n"
   ]
  },
  {
   "cell_type": "code",
   "execution_count": 1,
   "metadata": {},
   "outputs": [
    {
     "name": "stdout",
     "output_type": "stream",
     "text": [
      "[NbConvertApp] Converting notebook Case_Study_Diabetes_UCI.ipynb to html\n",
      "[NbConvertApp] Writing 703307 bytes to Case_Study_Diabetes_UCI.html\n"
     ]
    }
   ],
   "source": [
    "!jupyter nbconvert --to html Case_Study_Diabetes_UCI.ipynb"
   ]
  },
  {
   "cell_type": "code",
   "execution_count": null,
   "metadata": {},
   "outputs": [],
   "source": []
  }
 ],
 "metadata": {
  "kernelspec": {
   "display_name": "Python 3",
   "language": "python",
   "name": "python3"
  },
  "language_info": {
   "codemirror_mode": {
    "name": "ipython",
    "version": 3
   },
   "file_extension": ".py",
   "mimetype": "text/x-python",
   "name": "python",
   "nbconvert_exporter": "python",
   "pygments_lexer": "ipython3",
   "version": "3.6.4"
  },
  "toc": {
   "base_numbering": 1,
   "nav_menu": {},
   "number_sections": true,
   "sideBar": true,
   "skip_h1_title": false,
   "title_cell": "Table of Contents",
   "title_sidebar": "Contents",
   "toc_cell": false,
   "toc_position": {},
   "toc_section_display": true,
   "toc_window_display": false
  }
 },
 "nbformat": 4,
 "nbformat_minor": 2
}
